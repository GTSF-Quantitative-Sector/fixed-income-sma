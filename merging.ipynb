{
 "cells": [
  {
   "cell_type": "code",
   "execution_count": 1,
   "metadata": {},
   "outputs": [
    {
     "name": "stdout",
     "output_type": "stream",
     "text": [
      "   Unnamed: 0       Date  XOM-Price  XOM-Yield  TSLA-Price  TSLA-Yield  \\\n",
      "0           0 2019-01-02     96.727      3.299      69.879      11.403   \n",
      "1           1 2019-01-03     97.207      3.212      70.389      11.270   \n",
      "2           2 2019-01-04     96.661      3.312      71.510      10.967   \n",
      "3           3 2019-01-07     96.522      3.338      73.343      10.482   \n",
      "4           4 2019-01-08     96.228      3.393      74.650      10.145   \n",
      "\n",
      "   LLY-Price  LLY-Yield  AAPL-Price  AAPL-Yield  ...  XOM-spread  TSLA-spread  \\\n",
      "0     96.732      3.320     100.954       3.253  ...       0.666        8.770   \n",
      "1     96.941      3.283     101.039       3.236  ...       0.660        8.718   \n",
      "2     96.669      3.332     100.570       3.332  ...       0.644        8.299   \n",
      "3     96.387      3.383     100.582       3.329  ...       0.640        7.784   \n",
      "4     96.293      3.400     100.506       3.345  ...       0.663        7.415   \n",
      "\n",
      "   LLY-spread  AAPL-spread  NVDA-spread  JPM-spread  AMZN-spread  V-spread  \\\n",
      "0       0.687        0.620        1.248       1.467        0.645     0.712   \n",
      "1       0.731        0.684        1.281       1.519        0.686     0.757   \n",
      "2       0.664        0.664        1.274       1.447        0.667     0.737   \n",
      "3       0.685        0.631        1.239       1.398        0.648     0.697   \n",
      "4       0.670        0.615        1.216       1.361        0.650     0.691   \n",
      "\n",
      "   UNH-spread  Fed Funds Rate  \n",
      "0       0.804             2.4  \n",
      "1       0.788             2.4  \n",
      "2       0.770             2.4  \n",
      "3       0.753             2.4  \n",
      "4       0.724             2.4  \n",
      "\n",
      "[5 rows x 31 columns]\n"
     ]
    }
   ],
   "source": [
    "import pandas as pd\n",
    "\n",
    "# Load the data from the CSV files\n",
    "fed_funds = pd.read_csv('FEDFUNDS.csv', parse_dates=['DATE'])\n",
    "merged = pd.read_csv('merged.csv', parse_dates=['Date'])\n",
    "\n",
    "# Extract year and month from the date for easier merging\n",
    "fed_funds['Year'] = fed_funds['DATE'].dt.year\n",
    "fed_funds['Month'] = fed_funds['DATE'].dt.month\n",
    "merged['Year'] = merged['Date'].dt.year\n",
    "merged['Month'] = merged['Date'].dt.month\n",
    "\n",
    "# Merge the DataFrames on year and month\n",
    "result = pd.merge(merged, fed_funds, how='left', on=['Year', 'Month'])\n",
    "\n",
    "# Drop the additional date columns if needed and rename the fed funds rate column\n",
    "result.drop(columns=['Year', 'Month', 'DATE'], inplace=True)\n",
    "result.rename(columns={'FEDFUNDS': 'Fed Funds Rate'}, inplace=True)\n",
    "\n",
    "# Save the merged DataFrame to a new CSV file\n",
    "result.to_csv('merged_with_fedfunds.csv', index=False)\n",
    "\n",
    "# Display the head of the resulting DataFrame to verify the merge\n",
    "print(result.head())\n"
   ]
  }
 ],
 "metadata": {
  "interpreter": {
   "hash": "d358ffa43c4f7880dca9364a75e98062d35037d5ccc5094d4c69804dac157ffa"
  },
  "kernelspec": {
   "display_name": "Python 3.9.12 ('base')",
   "language": "python",
   "name": "python3"
  },
  "language_info": {
   "codemirror_mode": {
    "name": "ipython",
    "version": 3
   },
   "file_extension": ".py",
   "mimetype": "text/x-python",
   "name": "python",
   "nbconvert_exporter": "python",
   "pygments_lexer": "ipython3",
   "version": "3.9.12"
  },
  "orig_nbformat": 4
 },
 "nbformat": 4,
 "nbformat_minor": 2
}
